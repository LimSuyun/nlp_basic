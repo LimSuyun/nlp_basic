{
 "cells": [
  {
   "cell_type": "markdown",
   "metadata": {},
   "source": [
    " "
   ]
  },
  {
   "cell_type": "markdown",
   "metadata": {},
   "source": [
    "어제 전처리 하던 말뭉치를 읽어옵니다."
   ]
  },
  {
   "cell_type": "code",
   "execution_count": 25,
   "metadata": {},
   "outputs": [],
   "source": [
    "문서목록 = []\n",
    "with open('corpus/영화리뷰_전처리.txt', 'r', encoding='utf8') as 파일:\n",
    "    for 문서 in 파일:\n",
    "        문서목록.append(문서.strip())"
   ]
  },
  {
   "cell_type": "code",
   "execution_count": 5,
   "metadata": {},
   "outputs": [
    {
     "data": {
      "text/plain": [
       "199992"
      ]
     },
     "execution_count": 5,
     "metadata": {},
     "output_type": "execute_result"
    }
   ],
   "source": [
    "# 원래 2000,000개의 데이터에서 NaN값 8개 제외된 데이터\n",
    "len(문서목록)"
   ]
  },
  {
   "cell_type": "code",
   "execution_count": 6,
   "metadata": {},
   "outputs": [
    {
     "data": {
      "text/plain": [
       "'어릴때보고 지금다시봐도 재밌어요'"
      ]
     },
     "execution_count": 6,
     "metadata": {},
     "output_type": "execute_result"
    }
   ],
   "source": [
    "문서목록[0]"
   ]
  },
  {
   "cell_type": "code",
   "execution_count": 7,
   "metadata": {},
   "outputs": [
    {
     "data": {
      "text/plain": [
       "'와   연기가 진짜 개쩔구나   지루할거라고 생각했는데 몰입해서 봤다   그래 이런게 진짜 영화지'"
      ]
     },
     "execution_count": 7,
     "metadata": {},
     "output_type": "execute_result"
    }
   ],
   "source": [
    "문서목록[3]"
   ]
  },
  {
   "cell_type": "markdown",
   "metadata": {},
   "source": [
    "### 유니코드와 인코딩"
   ]
  },
  {
   "cell_type": "code",
   "execution_count": 8,
   "metadata": {},
   "outputs": [],
   "source": [
    "이름 = '이성주'"
   ]
  },
  {
   "cell_type": "code",
   "execution_count": 9,
   "metadata": {},
   "outputs": [
    {
     "data": {
      "text/plain": [
       "str"
      ]
     },
     "execution_count": 9,
     "metadata": {},
     "output_type": "execute_result"
    }
   ],
   "source": [
    "type(이름)"
   ]
  },
  {
   "cell_type": "markdown",
   "metadata": {},
   "source": [
    "유니코드 포인트"
   ]
  },
  {
   "cell_type": "code",
   "execution_count": 10,
   "metadata": {},
   "outputs": [
    {
     "data": {
      "text/plain": [
       "[51060, 49457, 51452]"
      ]
     },
     "execution_count": 10,
     "metadata": {},
     "output_type": "execute_result"
    }
   ],
   "source": [
    "[ord(글자) for 글자 in 이름]"
   ]
  },
  {
   "cell_type": "code",
   "execution_count": 12,
   "metadata": {},
   "outputs": [
    {
     "data": {
      "text/plain": [
       "b'\\xec\\x9d\\xb4\\xec\\x84\\xb1\\xec\\xa3\\xbc'"
      ]
     },
     "execution_count": 12,
     "metadata": {},
     "output_type": "execute_result"
    }
   ],
   "source": [
    "이름.encode('utf8') # str.encode(코덱) <유니코드, 표준규격> -> byte <메모리(Ram, Disk, cashe) 업로드>"
   ]
  },
  {
   "cell_type": "code",
   "execution_count": 13,
   "metadata": {},
   "outputs": [
    {
     "data": {
      "text/plain": [
       "b'\\xff\\xfet\\xc71\\xc1\\xfc\\xc8'"
      ]
     },
     "execution_count": 13,
     "metadata": {},
     "output_type": "execute_result"
    }
   ],
   "source": [
    "이름.encode('utf16')"
   ]
  },
  {
   "cell_type": "markdown",
   "metadata": {},
   "source": [
    "문자가 코덱의 범위를 벗어나는 경우"
   ]
  },
  {
   "cell_type": "code",
   "execution_count": 14,
   "metadata": {},
   "outputs": [
    {
     "data": {
      "text/plain": [
       "b'a'"
      ]
     },
     "execution_count": 14,
     "metadata": {},
     "output_type": "execute_result"
    }
   ],
   "source": [
    "'a'.encode('ascii')"
   ]
  },
  {
   "cell_type": "code",
   "execution_count": 19,
   "metadata": {},
   "outputs": [
    {
     "name": "stdout",
     "output_type": "stream",
     "text": [
      "'ascii' codec can't encode character '\\uac00' in position 0: ordinal not in range(128)\n"
     ]
    }
   ],
   "source": [
    "try:\n",
    "    print('가'.encode('ascii'))\n",
    "except(UnicodeEncodeError) as Er:\n",
    "    print(Er)"
   ]
  },
  {
   "cell_type": "markdown",
   "metadata": {},
   "source": [
    "해당 문자가 코덱의 범위를 벗어납니다.\n",
    "\n",
    "파일 읽기 등을 수행할 때 문제가 발생할 수 있는 경우"
   ]
  },
  {
   "cell_type": "code",
   "execution_count": 23,
   "metadata": {},
   "outputs": [
    {
     "name": "stdout",
     "output_type": "stream",
     "text": [
      "'utf-16-le' codec can't decode byte 0xbc in position 8: truncated data\n"
     ]
    }
   ],
   "source": [
    "try:\n",
    "    print(이름.encode('utf8').decode('utf16'))\n",
    "except(UnicodeDecodeError) as Er:\n",
    "    print(Er)"
   ]
  },
  {
   "cell_type": "markdown",
   "metadata": {},
   "source": [
    "UTF8-BOM: 윈도우 독자적인 변형 UTF8\n",
    "\n",
    "다행히 파이썬 3의 UTF8 코덱이 포괄적으로 처리해 주는 것으로 보입니다."
   ]
  },
  {
   "cell_type": "code",
   "execution_count": 29,
   "metadata": {},
   "outputs": [
    {
     "name": "stdout",
     "output_type": "stream",
     "text": [
      "﻿안녕하세요\n"
     ]
    }
   ],
   "source": [
    "with open('hello.txt', 'r', encoding='utf8') as 파일:\n",
    "    print(파일.read())"
   ]
  },
  {
   "cell_type": "markdown",
   "metadata": {},
   "source": [
    "## 말뭉치와 전처리"
   ]
  },
  {
   "cell_type": "code",
   "execution_count": 32,
   "metadata": {},
   "outputs": [
    {
     "name": "stdout",
     "output_type": "stream",
     "text": [
      "앨런 매시슨 튜링(영어: Alan Mathison Turing, OBE, FRS, 1912년 6월 23일 ~ 1954년 6월 7일)은 잉글랜드의 수학자, 암호학자, 논리학자이자 컴퓨터 과학의 선구적 인물이다. 알고리즘과 계산 개념을 튜링 기계라는 추상 모델을 통해 형식화함으로써 컴퓨터 과학의 발전에 지대한 공헌을 했다.[2][3][4]\n",
      "\n",
      "튜링 테스트의 고안으로도 유명하다. ACM에서 컴퓨터 과학에 중요한 업적을 남긴 사람들에게 매년 시상하는 튜링상은 그의 이름을 따 제정한 것이다. 이론 컴퓨터 과학과 인공지능 분야에 지대한 공헌을 했기 때문에 \"컴퓨터 과학의 아버지의 아버지\" 즉 \"컴퓨터 과학의 할아버지\"라고 불린다.\n",
      "\n",
      "1945년에 그가 고안한 튜링 머신은 초보적 형태의 컴퓨터로, 복잡한 계산과 논리 문제를 처리할 수 있었다.\n",
      "\n",
      "하지만 튜링은 1952년에 당시에는 범죄로 취급되던 동성애 혐의로 영국 경찰에 체포돼 유죄 판결을 받았다.[5] 감옥에 가는 대신 화학적 거세를 받아야 했던 그는, 2년 뒤 사이안화 칼륨을 넣은 사과를 먹고 자살했다.[5]\n",
      "\n",
      "사후 59년만인 2013년 12월 24일에 엘리자베스 2세 여왕이 크리스 그레일링 법무부 장관의 건의를 받아들여 튜링의 동성애 죄를 사면하였다. 이어서 무죄 판결을 받고 복권되었다.[5]\n"
     ]
    }
   ],
   "source": [
    "with open('wiki/turing.txt', 'r', encoding='utf8') as 파일:\n",
    "    본문 = 파일.read()\n",
    "    \n",
    "print(본문)"
   ]
  },
  {
   "cell_type": "markdown",
   "metadata": {},
   "source": [
    "정규표현식을 활용한 전처리"
   ]
  },
  {
   "cell_type": "code",
   "execution_count": 36,
   "metadata": {},
   "outputs": [],
   "source": [
    "import re"
   ]
  },
  {
   "cell_type": "markdown",
   "metadata": {},
   "source": [
    "대괄호 안에 숫자가 한 개 이상. 예: [1], [10]"
   ]
  },
  {
   "cell_type": "code",
   "execution_count": 37,
   "metadata": {},
   "outputs": [],
   "source": [
    "참조_정규식 = r'\\[[0-9]+\\]'"
   ]
  },
  {
   "cell_type": "code",
   "execution_count": 38,
   "metadata": {},
   "outputs": [
    {
     "data": {
      "text/plain": [
       "['[2]', '[3]', '[4]', '[5]', '[5]', '[5]']"
      ]
     },
     "execution_count": 38,
     "metadata": {},
     "output_type": "execute_result"
    }
   ],
   "source": [
    "re.findall(참조_정규식, 본문)"
   ]
  },
  {
   "cell_type": "code",
   "execution_count": 40,
   "metadata": {},
   "outputs": [],
   "source": [
    "본문 = re.sub(참조_정규식,'', 본문)"
   ]
  },
  {
   "cell_type": "code",
   "execution_count": 42,
   "metadata": {},
   "outputs": [
    {
     "name": "stdout",
     "output_type": "stream",
     "text": [
      "앨런 매시슨 튜링(영어: Alan Mathison Turing, OBE, FRS, 1912년 6월 23일 ~ 1954년 6월 7일)은 잉글랜드의 수학자, 암호학자, 논리학자이자 컴퓨터 과학의 선구적 인물이다. 알고리즘과 계산 개념을 튜링 기계라는 추상 모델을 통해 형식화함으로써 컴퓨터 과학의 발전에 지대한 공헌을 했다.\n",
      "\n",
      "튜링 테스트의 고안으로도 유명하다. ACM에서 컴퓨터 과학에 중요한 업적을 남긴 사람들에게 매년 시상하는 튜링상은 그의 이름을 따 제정한 것이다. 이론 컴퓨터 과학과 인공지능 분야에 지대한 공헌을 했기 때문에 \"컴퓨터 과학의 아버지의 아버지\" 즉 \"컴퓨터 과학의 할아버지\"라고 불린다.\n",
      "\n",
      "1945년에 그가 고안한 튜링 머신은 초보적 형태의 컴퓨터로, 복잡한 계산과 논리 문제를 처리할 수 있었다.\n",
      "\n",
      "하지만 튜링은 1952년에 당시에는 범죄로 취급되던 동성애 혐의로 영국 경찰에 체포돼 유죄 판결을 받았다. 감옥에 가는 대신 화학적 거세를 받아야 했던 그는, 2년 뒤 사이안화 칼륨을 넣은 사과를 먹고 자살했다.\n",
      "\n",
      "사후 59년만인 2013년 12월 24일에 엘리자베스 2세 여왕이 크리스 그레일링 법무부 장관의 건의를 받아들여 튜링의 동성애 죄를 사면하였다. 이어서 무죄 판결을 받고 복권되었다.\n"
     ]
    }
   ],
   "source": [
    "print(본문)"
   ]
  },
  {
   "cell_type": "markdown",
   "metadata": {},
   "source": [
    "### NLTK \n",
    "\n",
    "Natural Language Toolkit\n",
    "\n",
    "2000년 초반부터 사용되어 오던 초창기 자연어 처리 라이브러리"
   ]
  },
  {
   "cell_type": "code",
   "execution_count": 45,
   "metadata": {},
   "outputs": [],
   "source": [
    "import nltk"
   ]
  },
  {
   "cell_type": "code",
   "execution_count": 48,
   "metadata": {},
   "outputs": [
    {
     "name": "stdout",
     "output_type": "stream",
     "text": [
      "/usr/lib/python3.6/runpy.py:125: RuntimeWarning: 'nltk.downloader' found in sys.modules after import of package 'nltk', but prior to execution of 'nltk.downloader'; this may result in unpredictable behaviour\n",
      "  warn(RuntimeWarning(msg))\n",
      "[nltk_data] Downloading collection 'book'\n",
      "[nltk_data]    | \n",
      "[nltk_data]    | Downloading package abc to /root/nltk_data...\n",
      "[nltk_data]    |   Unzipping corpora/abc.zip.\n",
      "[nltk_data]    | Downloading package brown to /root/nltk_data...\n",
      "[nltk_data]    |   Unzipping corpora/brown.zip.\n",
      "[nltk_data]    | Downloading package chat80 to /root/nltk_data...\n",
      "[nltk_data]    |   Unzipping corpora/chat80.zip.\n",
      "[nltk_data]    | Downloading package cmudict to /root/nltk_data...\n",
      "[nltk_data]    |   Unzipping corpora/cmudict.zip.\n",
      "[nltk_data]    | Downloading package conll2000 to /root/nltk_data...\n",
      "[nltk_data]    |   Unzipping corpora/conll2000.zip.\n",
      "[nltk_data]    | Downloading package conll2002 to /root/nltk_data...\n",
      "[nltk_data]    |   Unzipping corpora/conll2002.zip.\n",
      "[nltk_data]    | Downloading package dependency_treebank to\n",
      "[nltk_data]    |     /root/nltk_data...\n",
      "[nltk_data]    |   Unzipping corpora/dependency_treebank.zip.\n",
      "[nltk_data]    | Downloading package genesis to /root/nltk_data...\n",
      "[nltk_data]    |   Unzipping corpora/genesis.zip.\n",
      "[nltk_data]    | Downloading package gutenberg to /root/nltk_data...\n",
      "[nltk_data]    |   Unzipping corpora/gutenberg.zip.\n",
      "[nltk_data]    | Downloading package ieer to /root/nltk_data...\n",
      "[nltk_data]    |   Unzipping corpora/ieer.zip.\n",
      "[nltk_data]    | Downloading package inaugural to /root/nltk_data...\n",
      "[nltk_data]    |   Unzipping corpora/inaugural.zip.\n",
      "[nltk_data]    | Downloading package movie_reviews to\n",
      "[nltk_data]    |     /root/nltk_data...\n",
      "[nltk_data]    |   Unzipping corpora/movie_reviews.zip.\n",
      "[nltk_data]    | Downloading package nps_chat to /root/nltk_data...\n",
      "[nltk_data]    |   Unzipping corpora/nps_chat.zip.\n",
      "[nltk_data]    | Downloading package names to /root/nltk_data...\n",
      "[nltk_data]    |   Unzipping corpora/names.zip.\n",
      "[nltk_data]    | Downloading package ppattach to /root/nltk_data...\n",
      "[nltk_data]    |   Unzipping corpora/ppattach.zip.\n",
      "[nltk_data]    | Downloading package reuters to /root/nltk_data...\n",
      "[nltk_data]    | Downloading package senseval to /root/nltk_data...\n",
      "[nltk_data]    |   Unzipping corpora/senseval.zip.\n",
      "[nltk_data]    | Downloading package state_union to /root/nltk_data...\n",
      "[nltk_data]    |   Unzipping corpora/state_union.zip.\n",
      "[nltk_data]    | Downloading package stopwords to /root/nltk_data...\n",
      "[nltk_data]    |   Unzipping corpora/stopwords.zip.\n",
      "[nltk_data]    | Downloading package swadesh to /root/nltk_data...\n",
      "[nltk_data]    |   Unzipping corpora/swadesh.zip.\n",
      "[nltk_data]    | Downloading package timit to /root/nltk_data...\n",
      "[nltk_data]    |   Unzipping corpora/timit.zip.\n",
      "[nltk_data]    | Downloading package treebank to /root/nltk_data...\n",
      "[nltk_data]    |   Unzipping corpora/treebank.zip.\n",
      "[nltk_data]    | Downloading package toolbox to /root/nltk_data...\n",
      "[nltk_data]    |   Unzipping corpora/toolbox.zip.\n",
      "[nltk_data]    | Downloading package udhr to /root/nltk_data...\n",
      "[nltk_data]    |   Unzipping corpora/udhr.zip.\n",
      "[nltk_data]    | Downloading package udhr2 to /root/nltk_data...\n",
      "[nltk_data]    |   Unzipping corpora/udhr2.zip.\n",
      "[nltk_data]    | Downloading package unicode_samples to\n",
      "[nltk_data]    |     /root/nltk_data...\n",
      "[nltk_data]    |   Unzipping corpora/unicode_samples.zip.\n",
      "[nltk_data]    | Downloading package webtext to /root/nltk_data...\n",
      "[nltk_data]    |   Unzipping corpora/webtext.zip.\n",
      "[nltk_data]    | Downloading package wordnet to /root/nltk_data...\n",
      "[nltk_data]    |   Unzipping corpora/wordnet.zip.\n",
      "[nltk_data]    | Downloading package wordnet_ic to /root/nltk_data...\n",
      "[nltk_data]    |   Unzipping corpora/wordnet_ic.zip.\n",
      "[nltk_data]    | Downloading package words to /root/nltk_data...\n",
      "[nltk_data]    |   Unzipping corpora/words.zip.\n",
      "[nltk_data]    | Downloading package maxent_treebank_pos_tagger to\n",
      "[nltk_data]    |     /root/nltk_data...\n",
      "[nltk_data]    |   Unzipping taggers/maxent_treebank_pos_tagger.zip.\n",
      "[nltk_data]    | Downloading package maxent_ne_chunker to\n",
      "[nltk_data]    |     /root/nltk_data...\n",
      "[nltk_data]    |   Unzipping chunkers/maxent_ne_chunker.zip.\n",
      "[nltk_data]    | Downloading package universal_tagset to\n",
      "[nltk_data]    |     /root/nltk_data...\n",
      "[nltk_data]    |   Unzipping taggers/universal_tagset.zip.\n",
      "[nltk_data]    | Downloading package punkt to /root/nltk_data...\n",
      "[nltk_data]    |   Unzipping tokenizers/punkt.zip.\n",
      "[nltk_data]    | Downloading package book_grammars to\n",
      "[nltk_data]    |     /root/nltk_data...\n",
      "[nltk_data]    |   Unzipping grammars/book_grammars.zip.\n",
      "[nltk_data]    | Downloading package city_database to\n",
      "[nltk_data]    |     /root/nltk_data...\n",
      "[nltk_data]    |   Unzipping corpora/city_database.zip.\n",
      "[nltk_data]    | Downloading package tagsets to /root/nltk_data...\n",
      "[nltk_data]    |   Unzipping help/tagsets.zip.\n",
      "[nltk_data]    | Downloading package panlex_swadesh to\n",
      "[nltk_data]    |     /root/nltk_data...\n",
      "[nltk_data]    | Downloading package averaged_perceptron_tagger to\n",
      "[nltk_data]    |     /root/nltk_data...\n",
      "[nltk_data]    |   Unzipping taggers/averaged_perceptron_tagger.zip.\n",
      "[nltk_data]    | \n",
      "[nltk_data]  Done downloading collection book\n"
     ]
    }
   ],
   "source": [
    "!python -m nltk.downloader book"
   ]
  },
  {
   "cell_type": "code",
   "execution_count": 50,
   "metadata": {},
   "outputs": [],
   "source": [
    "from nltk.tokenize import sent_tokenize as 문장_분리기"
   ]
  },
  {
   "cell_type": "code",
   "execution_count": 53,
   "metadata": {},
   "outputs": [],
   "source": [
    "문장목록 = 문장_분리기(본문)"
   ]
  },
  {
   "cell_type": "code",
   "execution_count": 54,
   "metadata": {},
   "outputs": [
    {
     "data": {
      "text/plain": [
       "'앨런 매시슨 튜링(영어: Alan Mathison Turing, OBE, FRS, 1912년 6월 23일 ~ 1954년 6월 7일)은 잉글랜드의 수학자, 암호학자, 논리학자이자 컴퓨터 과학의 선구적 인물이다.'"
      ]
     },
     "execution_count": 54,
     "metadata": {},
     "output_type": "execute_result"
    }
   ],
   "source": [
    "문장목록[0]"
   ]
  },
  {
   "cell_type": "code",
   "execution_count": 55,
   "metadata": {},
   "outputs": [
    {
     "data": {
      "text/plain": [
       "'알고리즘과 계산 개념을 튜링 기계라는 추상 모델을 통해 형식화함으로써 컴퓨터 과학의 발전에 지대한 공헌을 했다.'"
      ]
     },
     "execution_count": 55,
     "metadata": {},
     "output_type": "execute_result"
    }
   ],
   "source": [
    "문장목록[1]"
   ]
  },
  {
   "cell_type": "markdown",
   "metadata": {},
   "source": [
    "수동으로 복사를 하고 싶지 않다면, 웹 페이지에서 코드를 통해 본문을 추출할 수 있습니다."
   ]
  },
  {
   "cell_type": "code",
   "execution_count": 63,
   "metadata": {},
   "outputs": [],
   "source": [
    "import requests # headless Web Browser // HTTP 통신 모듈"
   ]
  },
  {
   "cell_type": "code",
   "execution_count": 62,
   "metadata": {},
   "outputs": [],
   "source": [
    "url = 'https://ko.wikipedia.org/wiki/%EC%95%A8%EB%9F%B0_%ED%8A%9C%EB%A7%81'\n",
    "응답 = requests.get(url)"
   ]
  },
  {
   "cell_type": "code",
   "execution_count": 64,
   "metadata": {},
   "outputs": [
    {
     "name": "stdout",
     "output_type": "stream",
     "text": [
      "<!DOCTYPE html>\n",
      "<html class=\"client-nojs\" lang=\"ko\" dir=\"ltr\">\n",
      "<head>\n",
      "<meta charset=\"UTF-8\"/>\n",
      "<title>앨런 튜링 - 위키백과, 우리 모두의 백과사전</title>\n",
      "<script>document.documentElement.className=\"client-js\";RLCONF={\"wgBreakFrames\":!1,\"wgSeparatorTransformTable\":[\"\",\"\"],\"wgDigitTransformTable\":[\"\",\"\"],\"wgDefaultDateFormat\":\"ko\",\"wgMonthNames\":[\"\",\"1월\",\"2월\",\"3월\",\"4월\",\"5월\",\"6월\",\"7월\",\"8월\",\"9월\",\"10월\",\"11월\",\"12월\"],\"wgRequestId\":\"248de9c3-f45a-4023-bd8f-5b158302cdfa\",\"wgCSPNonce\":!1,\"wgCanonicalNamespace\":\"\",\"wgCanonicalSpecialPageName\":!1,\"wgNamespaceNumber\":0,\"wgPageName\":\"앨런_튜링\",\"wgTitle\":\"앨런 튜링\",\"wgCurRevisionId\":27738829,\"wgRevisionId\":27738829,\"wgArticleId\":3768,\"wgIsArticle\":!0,\"wgIsRedirect\":!1,\"wgAction\":\"view\",\"wgUserName\":null,\"wgUserGroups\":[\"*\"],\"wgCategories\":[\"CS1 - 영어 인용 (en)\",\"가입이 필요한 링크를 포함한 문서\",\"출처가 필요한 글/2015년 3월\",\"출처가 필요한 모든 글\",\"전체에 출처가 필요한 글\",\"영어 표기를 포함한 문서\",\"ACM-DL 식별자를 포함한 위키백과 문서\",\"BNE 식별자를 포함한 위키백과 문서\",\n",
      "\"BNF 식별자를 포함한 위키백과 문서\",\"CANTIC 식별자를 포함한 위키백과 문서\",\"DBLP 식별자를 포함한 위키백과 문서\",\"GND 식별자\n"
     ]
    }
   ],
   "source": [
    "print(응답.text[:1000])"
   ]
  },
  {
   "cell_type": "markdown",
   "metadata": {},
   "source": [
    "HTML/XML 형식을 해독할 수 있는 자료구조를 활용해 텍스트 추출"
   ]
  },
  {
   "cell_type": "code",
   "execution_count": 1,
   "metadata": {},
   "outputs": [],
   "source": [
    "from bs4 import BeautifulSoup"
   ]
  },
  {
   "cell_type": "code",
   "execution_count": null,
   "metadata": {},
   "outputs": [],
   "source": [
    "html = BeautifulSoup(응답.text, 'lxml')\n",
    "\n"
   ]
  },
  {
   "cell_type": "markdown",
   "metadata": {},
   "source": [
    "html = BeautifulSoup(응답.text, 'lxml')"
   ]
  },
  {
   "cell_type": "markdown",
   "metadata": {},
   "source": [
    "html.title"
   ]
  },
  {
   "cell_type": "markdown",
   "metadata": {},
   "source": [
    "html.title.text"
   ]
  },
  {
   "cell_type": "markdown",
   "metadata": {},
   "source": [
    "본문요소목록 = html.select('#mw-content-text p')"
   ]
  },
  {
   "cell_type": "markdown",
   "metadata": {},
   "source": [
    "본문요소목록[0].text"
   ]
  },
  {
   "cell_type": "markdown",
   "metadata": {},
   "source": [
    "본문목록 = []\n",
    "for 본문요소 in 본문요소목록:\n",
    "    본문 = 본문요소.text\n",
    "    본문목록.append(본문)"
   ]
  },
  {
   "cell_type": "markdown",
   "metadata": {},
   "source": [
    "문서 = ''.join(본문목록)"
   ]
  },
  {
   "cell_type": "code",
   "execution_count": 82,
   "metadata": {},
   "outputs": [],
   "source": [
    "def 웹페이지_문서_추출(url, 문단_선택자):\n",
    "    응답 = requests.get(url)\n",
    "    html = BeautifulSoup(응답.text, 'lxml')\n",
    "    본문요소목록 = html.select(문단_선택자)\n",
    "    본문목록 = []\n",
    "    for 본문요소 in 본문요소목록:\n",
    "        본문 = 본문요소.text\n",
    "        본문목록.append(본문)\n",
    "        \n",
    "    문서 = ''.join(본문목록)\n",
    "    \n",
    "    return 문서"
   ]
  },
  {
   "cell_type": "code",
   "execution_count": 83,
   "metadata": {},
   "outputs": [],
   "source": [
    "위키문단_선택자 = '#mw-content-text p'\n",
    "튜링문서 = 웹피이지_문서_추출(url, 위키문단_선택자)"
   ]
  },
  {
   "cell_type": "code",
   "execution_count": 84,
   "metadata": {},
   "outputs": [
    {
     "data": {
      "text/plain": [
       "'스티븐 폴 \"스티브\" 잡스(영어: Steven Paul \"Steve\" Jobs, 1955년 2월 24일 ~ 2011년 10월 5일)는 미국의 기업인이었으며 애플의 전 CEO이자 공'"
      ]
     },
     "execution_count": 84,
     "metadata": {},
     "output_type": "execute_result"
    }
   ],
   "source": [
    "튜링문서[:100]"
   ]
  },
  {
   "cell_type": "code",
   "execution_count": 85,
   "metadata": {},
   "outputs": [],
   "source": [
    "with open('wiki/turing.txt', 'w', encoding='utf8') as 파일:\n",
    "    파일.write(튜링문서)"
   ]
  },
  {
   "cell_type": "code",
   "execution_count": 86,
   "metadata": {},
   "outputs": [],
   "source": [
    "url = 'https://ko.wikipedia.org/wiki/%EC%8A%A4%ED%8B%B0%EB%B8%8C_%EC%9E%A1%EC%8A%A4'\n",
    "잡스문서 = 웹페이지_문서_추출(url, 위키문단_선택자)"
   ]
  },
  {
   "cell_type": "code",
   "execution_count": 87,
   "metadata": {},
   "outputs": [],
   "source": [
    "with open('wiki/jobs.txt', 'w', encoding='utf8') as 파일:\n",
    "    파일.write(잡스문서)"
   ]
  },
  {
   "cell_type": "code",
   "execution_count": 89,
   "metadata": {},
   "outputs": [
    {
     "data": {
      "text/plain": [
       "'스티븐 폴 \"스티브\" 잡스(영어: Steven Paul \"Steve\" Jobs, 1955년 2월 24일 ~ 2011년 10월 5일)는 미국의 기업인이었으며 애플의 전 CEO이자 공'"
      ]
     },
     "execution_count": 89,
     "metadata": {},
     "output_type": "execute_result"
    }
   ],
   "source": [
    "잡스문서[:100]"
   ]
  },
  {
   "cell_type": "code",
   "execution_count": 91,
   "metadata": {},
   "outputs": [],
   "source": [
    "문장목록 = 문장_분리기(잡스문서)"
   ]
  },
  {
   "cell_type": "code",
   "execution_count": 92,
   "metadata": {},
   "outputs": [
    {
     "data": {
      "text/plain": [
       "'스티븐 폴 \"스티브\" 잡스(영어: Steven Paul \"Steve\" Jobs, 1955년 2월 24일 ~ 2011년 10월 5일)는 미국의 기업인이었으며 애플의 전 CEO이자 공동 창립자이다.'"
      ]
     },
     "execution_count": 92,
     "metadata": {},
     "output_type": "execute_result"
    }
   ],
   "source": [
    "문장목록[0]"
   ]
  },
  {
   "cell_type": "markdown",
   "metadata": {},
   "source": [
    "특수한 형태의 \"문장\"\n",
    "\n",
    "예: 계약서 등의 법률적 형식을 따르는 문서\n",
    "\n",
    "1. 특수 형태 문장만 추출\n",
    "2. 일반 문장에 대해서만 진행"
   ]
  },
  {
   "cell_type": "code",
   "execution_count": 93,
   "metadata": {},
   "outputs": [],
   "source": [
    "입력 = '아버지가방에들어가신다'"
   ]
  },
  {
   "cell_type": "code",
   "execution_count": 94,
   "metadata": {},
   "outputs": [],
   "source": [
    "정규화 = '아버지가 방에 들어가신다'"
   ]
  },
  {
   "cell_type": "code",
   "execution_count": null,
   "metadata": {},
   "outputs": [],
   "source": [
    "형태소목록 = ['아버지', '가', '방', '에', '들다', '-어', '가다', '-신다']"
   ]
  },
  {
   "cell_type": "code",
   "execution_count": 105,
   "metadata": {},
   "outputs": [],
   "source": [
    "import pyko"
   ]
  },
  {
   "cell_type": "code",
   "execution_count": 106,
   "metadata": {},
   "outputs": [
    {
     "data": {
      "text/plain": [
       "'0.4.1'"
      ]
     },
     "execution_count": 106,
     "metadata": {},
     "output_type": "execute_result"
    }
   ],
   "source": [
    "pyko.__version__"
   ]
  },
  {
   "cell_type": "code",
   "execution_count": 97,
   "metadata": {},
   "outputs": [],
   "source": [
    "from pyko import tokenizer as 형태소_분석기"
   ]
  },
  {
   "cell_type": "code",
   "execution_count": 100,
   "metadata": {},
   "outputs": [
    {
     "data": {
      "text/plain": [
       "['아버지', '가', '방', '에', '들어가', '시', 'ㄴ다']"
      ]
     },
     "execution_count": 100,
     "metadata": {},
     "output_type": "execute_result"
    }
   ],
   "source": [
    "list(형태소_분석기.tokenize(정규화))"
   ]
  },
  {
   "cell_type": "code",
   "execution_count": 101,
   "metadata": {},
   "outputs": [
    {
     "data": {
      "text/plain": [
       "['한국어', '가', '잘', '되', '는지', '궁금', '하', 'ㅂ니다']"
      ]
     },
     "execution_count": 101,
     "metadata": {},
     "output_type": "execute_result"
    }
   ],
   "source": [
    "list(형태소_분석기.tokenize('한국어가 잘 되는지 궁금합니다'))"
   ]
  },
  {
   "cell_type": "code",
   "execution_count": 104,
   "metadata": {},
   "outputs": [
    {
     "data": {
      "text/plain": [
       "[('아버지', 'NNG'),\n",
       " ('가', 'JKS'),\n",
       " ('가방', 'NNG'),\n",
       " ('에', 'JKB'),\n",
       " ('들어가', 'VV'),\n",
       " ('시', 'EP'),\n",
       " ('ㄴ다', 'EF'),\n",
       " ('.', 'SF')]"
      ]
     },
     "execution_count": 104,
     "metadata": {},
     "output_type": "execute_result"
    }
   ],
   "source": [
    "문장 = '아버지가 가방에 들어가신다.'\n",
    "list(형태소_분석기.tokenize(문장, tagged=True))"
   ]
  },
  {
   "cell_type": "markdown",
   "metadata": {},
   "source": [
    "NN* : 명사형\n",
    "JK* : 조사형\n",
    "VV : 동사\n",
    "E* : -어미"
   ]
  },
  {
   "cell_type": "markdown",
   "metadata": {},
   "source": [
    "Q: 형태소 분석 시, 전처리의 요구 수준?"
   ]
  },
  {
   "cell_type": "code",
   "execution_count": 107,
   "metadata": {},
   "outputs": [
    {
     "name": "stderr",
     "output_type": "stream",
     "text": [
      "/usr/lib/python3.6/importlib/_bootstrap.py:219: RuntimeWarning: numpy.ufunc size changed, may indicate binary incompatibility. Expected 192 from C header, got 216 from PyObject\n",
      "  return f(*args, **kwds)\n"
     ]
    }
   ],
   "source": [
    "import pandas as pd"
   ]
  },
  {
   "cell_type": "code",
   "execution_count": 110,
   "metadata": {},
   "outputs": [],
   "source": [
    "영화리뷰 = pd.read_csv('corpus/nsmc/ratings.txt', sep='\\t', encoding='utf8')"
   ]
  },
  {
   "cell_type": "code",
   "execution_count": 112,
   "metadata": {},
   "outputs": [],
   "source": [
    "# 누락값 제외\n",
    "영화리뷰 = 영화리뷰.dropna()"
   ]
  },
  {
   "cell_type": "code",
   "execution_count": 113,
   "metadata": {},
   "outputs": [],
   "source": [
    "리뷰말뭉치 = 영화리뷰['document']"
   ]
  },
  {
   "cell_type": "code",
   "execution_count": 115,
   "metadata": {},
   "outputs": [
    {
     "name": "stdout",
     "output_type": "stream",
     "text": [
      "어릴때보고 지금다시봐도 재밌어요ㅋㅋ\n",
      "-->['어리', 'ㄹ', '때', '보', '고', '지금다시', '보', '아도', '재미있', '어요', 'ㅋㅋ']\n",
      "\n",
      "디자인을 배우는 학생으로, 외국디자이너와 그들이 일군 전통을 통해 발전해가는 문화산업이 부러웠는데. 사실 우리나라에서도 그 어려운시절에 끝까지 열정을 지킨 노라노 같은 전통이있어 저와 같은 사람들이 꿈을 꾸고 이뤄나갈 수 있다는 것에 감사합니다.\n",
      "-->['디자인', '을', '배우', '는', '학생', '으로', ',', '외국', '디자이', '너', '와', '그', '들', '이', '일', '군', '전통', '을', '통하', '여', '발전', '하', '여', '가', '는', '문화', '산업', '이', '부럽', '었', '는데', '.', '사실', '우리나라', '에서', '도', '그', '어렵', 'ㄴ', '시절', '에', '끝', '까지', '열정', '을', '지키', 'ㄴ', '노라노', '같', '은', '전통', '이', '있', '어', '저', '와', '같', '은', '사람', '들', '이', '꿈', '을', '꾸', '고', '이루', '어', '나가', 'ㄹ', '수', '있', '다는', '것', '에', '감사', '하', 'ㅂ니다', '.']\n",
      "\n",
      "폴리스스토리 시리즈는 1부터 뉴까지 버릴께 하나도 없음.. 최고.\n",
      "-->['폴리스스토리', '시리즈', '는', '1', '부터', '뉴', '까지', '버리', 'ㄹ께', '하나', '도', '없', '음', '..', '최고', '.']\n",
      "\n",
      "와.. 연기가 진짜 개쩔구나.. 지루할거라고 생각했는데 몰입해서 봤다.. 그래 이런게 진짜 영화지\n",
      "-->['와', '.', '.', '연기', '가', '진짜', '개쩌', 'ㄹ구나', '..', '지루', '하', 'ㄹ', '거', '이', '라고', '생각', '하', '였', '는데', '몰입', '하', '여서', '보', '았', '다', '..', '그래', '이런', '것', '이', '진짜', '영화지']\n",
      "\n",
      "안개 자욱한 밤하늘에 떠 있는 초승달 같은 영화.\n",
      "-->['안개', '자욱', '하', 'ㄴ', '밤하늘', '에', '뜨', '어', '있', '는', '초승달', '같', '은', '영화', '.']\n",
      "\n",
      "사랑을 해본사람이라면 처음부터 끝까지 웃을수 있는영화\n",
      "-->['사랑', '을', '하', '여', '보', 'ㄴ', '사람', '이', '라면', '처음', '부터', '끝', '까지', '웃', '을', '수', '있', '는', '영화']\n",
      "\n",
      "완전 감동입니다 다시봐도 감동\n",
      "-->['완전', '감동', '이', 'ㅂ니다', '다시', '보', '아도', '감동']\n",
      "\n",
      "개들의 전쟁2 나오나요? 나오면 1빠로 보고 싶음\n",
      "-->['개', '들', '의', '전쟁', '2', '나오', '나요', '?', '나오', '면', '1', '빠', '로', '보', '고', '싶', '음']\n",
      "\n",
      "굿\n",
      "-->['굿']\n",
      "\n",
      "바보가 아니라 병 쉰 인듯\n",
      "-->['바보', '가', '아니', '라', '병', '쉬', 'ㄴ', '인', '듯']\n",
      "\n",
      "내 나이와 같은 영화를 지금 본 나는 감동적이다..하지만 훗날 다시보면대사하나하나 그 감정을완벽하게 이해할것만 같다...\n",
      "-->['나', '의', '나이', '와', '같', '은', '영화', '를', '지금', '보', 'ㄴ', '나', '는', '감동', '적', '이', '다', '..', '하', '지만', '훗날', '다시보', '면', '대사하나', '하나', '그', '감정', '을', '완벽', '하', '게', '이해', '하', 'ㄹ', '것', '만', '같', '다', '.', '..']\n",
      "\n",
      "재밌다\n",
      "-->['재미있', '다']\n",
      "\n",
      "고질라니무 귀엽다능ㅋㅋ\n",
      "-->['고', '질라니무', '귀엽', '다', '능', 'ㅋ', 'ㅋ']\n",
      "\n",
      "영화의 오페라화라고 해야할 작품. 극단적 평갈림은 어쩔 수 없는 듯.\n",
      "-->['영화', '의', '오페라화', '이', '라고', '하', '여야', '하', 'ㄹ', '작품', '.', '극단', '적', '평갈림', '은', '어쩌', 'ㄹ', '수', '없', '는', '듯', '.']\n",
      "\n",
      "3도 반전 좋았제 ^^\n",
      "-->['3', '도', '반전', '좋', '았', '제', '^', '^']\n",
      "\n",
      "평점 왜 낮아? 긴장감 스릴감 진짜 최고인데 진짜 전장에서 느끼는 공포를 생생하게 전해준다.\n",
      "-->['평점', '왜', '낮', '아', '?', '긴장감', '스릴감', '진짜', '최고', '이', 'ㄴ데', '진짜', '전장', '에서', '느끼', '는', '공포', '를', '생생', '하', '게', '전하', '여', '주', 'ㄴ다', '.']\n",
      "\n",
      "네고시에이터랑 소재만 같을 뿐.. 아무런 관련없음..\n",
      "-->['너', '의', '고시에이터', '랑', '소재', '만', '같', '을', '뿐', '.', '.', '아무런', '관련', '없', '음', '..']\n",
      "\n",
      "단연 최고\n",
      "-->['단연', '최고']\n",
      "\n",
      "가면 갈수록 더욱 빠져드네요 밀회 화이팅!!\n",
      "-->['가', '면', '가', 'ㄹ', '수록', '더욱', '빠져', '들', '네', '요', '밀회', '화이', '팅', '!!']\n",
      "\n",
      "어?생각없이 봤는데 상당한 수작.일본영화 10년내 최고로 마음에 들었다.강렬한 임팩트가 일품.\n",
      "-->['어', '?', '생각', '없이', '보', '았', '는데', '상당', '하', 'ㄴ', '수작', '.', '일본영화', '10', '년', '내', '최고', '로', '마음', '에', '들', '었', '다', '.', '강렬', '하', 'ㄴ', '임팩트', '가', '일품', '.']\n",
      "\n",
      "오랜만에 본 제대로 된 범죄스릴러~\n",
      "-->['오랜만', '에', '보', 'ㄴ', '제대로', '되', 'ㄴ', '범죄스릴러', '~']\n",
      "\n",
      "그런 때가 있었다. ('사랑해'도 아니고) 그저 좋아한다는 한 마디 말을 꺼내기도 벅차서 밤 잠 설치던 때. 커징텅의 교복에 남은 션자이의 볼펜 자국 역시 미처 다 전하지 못한 마음의 형태인 거다.\n",
      "-->['그런', '때', '가', '있', '었', '다', '.', '(', \"'\", '사랑', '하', '여', \"'\", '도', '아니', '고', ')', '그저', '좋아하', 'ㄴ다는', '한', '마디', '말', '을', '꺼내', '기', '도', '벅차', '아서', '밤', '잠', '설치', '던', '때', '.', '커징텅', '의', '교복', '에', '남', '은', '션자이', '의', '볼펜', '자국', '역시', '미처', '다', '전하', '지', '못하', 'ㄴ', '마음', '의', '형태', '이', 'ㄴ', '거', '이', '다', '.']\n",
      "\n",
      "마지막씬을 잊을수가 없다\n",
      "-->['마지막씬', '을', '잊', '을', '수', '가', '없', '다']\n",
      "\n",
      "강압적용서,세뇌적용서에 대한 비판\n",
      "-->['강압', '적', '용서', ',', '세뇌', '적', '용서', '에', '대하', 'ㄴ', '비판']\n",
      "\n",
      "중세시대명작. 굿 평점이왜이래\n",
      "-->['중세', '시대명작', '.', '굿', '평점', '이', '왜', '이', '래']\n",
      "\n",
      "7시간짜리 영상이 존재한다면, 죽기전에 꼭 한번 보고싶다. 아름답고 슬픈 OST, 제니퍼코넬리의 눈부신 아역시절, 로버트드니로의 마지막 웃는 장면까지 정말 가슴속에 영원히 기억될 최고의 명작이다.\n",
      "-->['7', '시간', '짜리', '영상', '이', '존재', '하', 'ㄴ다면', ',', '죽', '기전', '에', '꼭', '한', '번', '보', '고', '싶', '다', '.', '아름답', '고', '슬프', 'ㄴ', 'OST', ',', '제니퍼코넬리', '의', '눈부시', 'ㄴ', '아역', '시절', ',', '로버트드니로', '의', '마지막', '웃', '는', '장면', '까지', '정말', '가슴속', '에', '영원히', '기억', '되', 'ㄹ', '최고', '의', '명작', '이', '다', '.']\n",
      "\n",
      "사람이 어떻게 저런짓을 할 수가 있는지ㅡㅡ 보는 내가 다 화나더라\n",
      "-->['사람', '이', '어떻', '게', '저', '런', '짓', '을', '하', 'ㄹ', '수', '가', '있', '는지ㅡㅡ', '보', '는', '내', '가', '다', '화', '나더라']\n",
      "\n",
      "인간의 잠재된 악마성은 여러 시간과 공간 속에서 존속해왔다. 이 다큐는 그것을 엉뚱하면서도 광적으로 재현하였다.\n",
      "-->['인간', '의', '잠재', '되', 'ㄴ', '악마', '성', '은', '여러', '시간', '과', '공간', '속', '에서', '존속', '하', '여', '오', '았', '다', '.', '이', '다큐', '는', '그것', '을', '엉뚱', '하', '면서', '도', '광', '적', '으로', '재현', '하', '였', '다', '.']\n",
      "\n",
      "최고다. 삼일동안 쉬는틈틈이 잠도 줄여가면서 봤다..여운이 남는다.\n",
      "-->['최고', '이', '다', '.', '삼일', '동안', '쉬', '는', '틈틈', '이', '잠', '도', '줄이', '어', '가', '면서', '보', '았', '다', '.', '.', '여운', '이', '남', '는다', '.']\n",
      "\n",
      "실화여서 더욱 충격, 다시는 어디에서도 일어나서는 안될 경각심을 일깨워주는 영화\n",
      "-->['실화', '이', '어서', '더욱', '충격', ',', '다시', '는', '어디', '에서', '도', '일어나', '아서', '는', '안', '되', 'ㄹ', '경각심', '을', '일깨우', '어', '주', '는', '영화']\n",
      "\n"
     ]
    }
   ],
   "source": [
    "for 색인, 문서 in 리뷰말뭉치[:30].iteritems():\n",
    "    print(문서)\n",
    "    형태분석 = list(형태소_분석기.tokenize(문서))\n",
    "    print(f'-->{형태분석}\\n')"
   ]
  },
  {
   "cell_type": "code",
   "execution_count": null,
   "metadata": {},
   "outputs": [],
   "source": []
  },
  {
   "cell_type": "code",
   "execution_count": null,
   "metadata": {},
   "outputs": [],
   "source": []
  },
  {
   "cell_type": "code",
   "execution_count": null,
   "metadata": {},
   "outputs": [],
   "source": []
  }
 ],
 "metadata": {
  "kernelspec": {
   "display_name": "Python 3",
   "language": "python",
   "name": "python3"
  },
  "language_info": {
   "codemirror_mode": {
    "name": "ipython",
    "version": 3
   },
   "file_extension": ".py",
   "mimetype": "text/x-python",
   "name": "python",
   "nbconvert_exporter": "python",
   "pygments_lexer": "ipython3",
   "version": "3.6.9"
  }
 },
 "nbformat": 4,
 "nbformat_minor": 2
}
