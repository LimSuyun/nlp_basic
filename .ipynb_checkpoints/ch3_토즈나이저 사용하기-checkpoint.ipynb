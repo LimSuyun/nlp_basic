{
 "cells": [
  {
   "cell_type": "markdown",
   "id": "b94d31d0",
   "metadata": {},
   "source": [
    "## 한국어 형태소 분석기 사용하기"
   ]
  },
  {
   "cell_type": "code",
   "execution_count": 21,
   "id": "15259eba-94de-458c-ae2e-e54c4aff06fd",
   "metadata": {
    "tags": []
   },
   "outputs": [],
   "source": [
    "import pandas as pd\n",
    "\n",
    "from konlpy.tag import Okt, Kkma, Hannanum, Komoran"
   ]
  },
  {
   "cell_type": "code",
   "execution_count": 2,
   "id": "8cfaee6f-914a-4e85-a22d-a599ee9d35d0",
   "metadata": {
    "tags": []
   },
   "outputs": [],
   "source": [
    "okt = Okt()\n",
    "kkma = Kkma()"
   ]
  },
  {
   "cell_type": "code",
   "execution_count": 9,
   "id": "736e944d-3b45-49b3-99e6-4a57c8641d27",
   "metadata": {},
   "outputs": [],
   "source": [
    "rating_df = pd.read_csv('./data/ratings_train.csv')"
   ]
  },
  {
   "cell_type": "code",
   "execution_count": 12,
   "id": "c3f435ea",
   "metadata": {},
   "outputs": [
    {
     "data": {
      "text/plain": [
       "4838    왜 8점대를 못찍는건지 모르겠다 아쉽다...난 괜찮았는데...\n",
       "Name: document, dtype: object"
      ]
     },
     "execution_count": 12,
     "metadata": {},
     "output_type": "execute_result"
    }
   ],
   "source": [
    "select_str = rating_df['document'].sample(1)\n",
    "select_str"
   ]
  },
  {
   "cell_type": "code",
   "execution_count": 22,
   "id": "e6de3f58",
   "metadata": {},
   "outputs": [
    {
     "name": "stdout",
     "output_type": "stream",
     "text": [
      "OKT 형태소 분석 : ['왜', '8', '점', '대', '를', '못', '찍는', '건지', '모르겠다', '아쉽다', '...', '난', '괜찮았는데', '...']\n",
      "꼬꼬마 형태소 분석 : ['왜', '8', '점', '대', '를', '못', '찍', '는', '것', '이', 'ㄴ지', '모르', '겠', '다', '아쉽', '다', '...', '나', '는', '괜찮', '았', '는데', '...']\n"
     ]
    }
   ],
   "source": [
    "print('OKT 형태소 분석 :',okt.morphs(select_str.loc[4838]))\n",
    "print('꼬꼬마 형태소 분석 :',kkma.morphs(select_str.loc[4838]))"
   ]
  },
  {
   "cell_type": "code",
   "execution_count": 23,
   "id": "54824d00",
   "metadata": {},
   "outputs": [
    {
     "name": "stdout",
     "output_type": "stream",
     "text": [
      "OKT 품사 태깅 : [('왜', 'Noun'), ('8', 'Number'), ('점', 'Noun'), ('대', 'Suffix'), ('를', 'Josa'), ('못', 'VerbPrefix'), ('찍는', 'Verb'), ('건지', 'Verb'), ('모르겠다', 'Verb'), ('아쉽다', 'Adjective'), ('...', 'Punctuation'), ('난', 'Noun'), ('괜찮았는데', 'Adjective'), ('...', 'Punctuation')]\n",
      "꼬꼬마 품사 태깅 : [('왜', 'MAG'), ('8', 'NR'), ('점', 'NNM'), ('대', 'NNG'), ('를', 'JKO'), ('못', 'MAG'), ('찍', 'VV'), ('는', 'ETD'), ('것', 'NNB'), ('이', 'VCP'), ('ㄴ지', 'ECS'), ('모르', 'VV'), ('겠', 'EPT'), ('다', 'ECS'), ('아쉽', 'VA'), ('다', 'ECS'), ('...', 'SE'), ('나', 'NP'), ('는', 'JX'), ('괜찮', 'VA'), ('았', 'EPT'), ('는데', 'ECD'), ('...', 'SE')]\n"
     ]
    }
   ],
   "source": [
    "print('OKT 품사 태깅 :',okt.pos(select_str.loc[4838]))\n",
    "print('꼬꼬마 품사 태깅 :',kkma.pos(select_str.loc[4838]))"
   ]
  },
  {
   "cell_type": "code",
   "execution_count": 24,
   "id": "9102f3f9",
   "metadata": {},
   "outputs": [
    {
     "name": "stdout",
     "output_type": "stream",
     "text": [
      "OKT 명사 추출 : ['왜', '점', '난']\n",
      "꼬꼬마 명사 추출 : ['8', '8점대', '점', '대', '나']\n"
     ]
    }
   ],
   "source": [
    "print('OKT 명사 추출 :',okt.nouns(select_str.loc[4838])) \n",
    "print('꼬꼬마 명사 추출 :',kkma.nouns(select_str.loc[4838]))  "
   ]
  },
  {
   "cell_type": "markdown",
   "id": "3817b961",
   "metadata": {},
   "source": [
    "### 불용어 적용하기"
   ]
  },
  {
   "cell_type": "code",
   "execution_count": 26,
   "id": "2175c5d6",
   "metadata": {},
   "outputs": [
    {
     "data": {
      "text/plain": [
       "['왜',\n",
       " '8',\n",
       " '점',\n",
       " '대',\n",
       " '못',\n",
       " '찍',\n",
       " '는',\n",
       " '것',\n",
       " '이',\n",
       " 'ㄴ지',\n",
       " '모르',\n",
       " '겠',\n",
       " '다',\n",
       " '아쉽',\n",
       " '다',\n",
       " '...',\n",
       " '나',\n",
       " '는',\n",
       " '괜찮',\n",
       " '았',\n",
       " '는데',\n",
       " '...']"
      ]
     },
     "execution_count": 26,
     "metadata": {},
     "output_type": "execute_result"
    }
   ],
   "source": [
    "# 결과 값에서 제외하기\n",
    "word_tokens = kkma.morphs(select_str.loc[4838])\n",
    "stop_words = '를'\n",
    "result = [word for word in word_tokens if not word in stop_words]\n",
    "result"
   ]
  },
  {
   "cell_type": "markdown",
   "id": "5c50aa3f",
   "metadata": {},
   "source": [
    "### 사용자 사전 추가하기"
   ]
  },
  {
   "cell_type": "code",
   "execution_count": 27,
   "id": "d2ba5bd7",
   "metadata": {
    "collapsed": true
   },
   "outputs": [
    {
     "name": "stdout",
     "output_type": "stream",
     "text": [
      "\u001b[33mWARNING: The directory '/home/jovyan/.cache/pip' or its parent directory is not owned or is not writable by the current user. The cache has been disabled. Check the permissions and owner of that directory. If executing pip with sudo, you should use sudo's -H flag.\u001b[0m\u001b[33m\n",
      "\u001b[0mCollecting customized_konlpy\n",
      "  Downloading customized_konlpy-0.0.64-py3-none-any.whl (881 kB)\n",
      "\u001b[2K     \u001b[90m━━━━━━━━━━━━━━━━━━━━━━━━━━━━━━━━━━━━━━━\u001b[0m \u001b[32m881.5/881.5 kB\u001b[0m \u001b[31m3.4 MB/s\u001b[0m eta \u001b[36m0:00:00\u001b[0ma \u001b[36m0:00:01\u001b[0m\n",
      "\u001b[?25hRequirement already satisfied: Jpype1>=0.6.1 in /opt/conda/lib/python3.10/site-packages (from customized_konlpy) (1.4.1)\n",
      "Requirement already satisfied: konlpy>=0.4.4 in /opt/conda/lib/python3.10/site-packages (from customized_konlpy) (0.6.0)\n",
      "Requirement already satisfied: packaging in /opt/conda/lib/python3.10/site-packages (from Jpype1>=0.6.1->customized_konlpy) (23.1)\n",
      "Requirement already satisfied: lxml>=4.1.0 in /opt/conda/lib/python3.10/site-packages (from konlpy>=0.4.4->customized_konlpy) (4.9.2)\n",
      "Requirement already satisfied: numpy>=1.6 in /opt/conda/lib/python3.10/site-packages (from konlpy>=0.4.4->customized_konlpy) (1.23.5)\n",
      "Installing collected packages: customized_konlpy\n",
      "Successfully installed customized_konlpy-0.0.64\n",
      "\u001b[33mWARNING: Running pip as the 'root' user can result in broken permissions and conflicting behaviour with the system package manager. It is recommended to use a virtual environment instead: https://pip.pypa.io/warnings/venv\u001b[0m\u001b[33m\n",
      "\u001b[0m"
     ]
    }
   ],
   "source": [
    "!pip install customized_konlpy"
   ]
  },
  {
   "cell_type": "code",
   "execution_count": 29,
   "id": "d5c051d0",
   "metadata": {},
   "outputs": [
    {
     "name": "stderr",
     "output_type": "stream",
     "text": [
      "/opt/conda/lib/python3.10/site-packages/konlpy/tag/_okt.py:17: UserWarning: \"Twitter\" has changed to \"Okt\" since KoNLPy v0.4.5.\n",
      "  warn('\"Twitter\" has changed to \"Okt\" since KoNLPy v0.4.5.')\n"
     ]
    }
   ],
   "source": [
    "from ckonlpy.tag import Twitter\n",
    "twitter = Twitter()"
   ]
  },
  {
   "cell_type": "code",
   "execution_count": 30,
   "id": "8cf05f9c",
   "metadata": {},
   "outputs": [
    {
     "data": {
      "text/plain": [
       "['왜',\n",
       " '8',\n",
       " '점',\n",
       " '대',\n",
       " '를',\n",
       " '못',\n",
       " '찍는',\n",
       " '건지',\n",
       " '모르겠다',\n",
       " '아쉽다',\n",
       " '...',\n",
       " '난',\n",
       " '괜찮았는데',\n",
       " '...']"
      ]
     },
     "execution_count": 30,
     "metadata": {},
     "output_type": "execute_result"
    }
   ],
   "source": [
    "twitter.morphs(select_str.loc[4838])"
   ]
  },
  {
   "cell_type": "code",
   "execution_count": 31,
   "id": "0201f0f5",
   "metadata": {},
   "outputs": [],
   "source": [
    "twitter.add_dictionary('8점대', 'Noun')"
   ]
  },
  {
   "cell_type": "code",
   "execution_count": 32,
   "id": "efd036a7",
   "metadata": {},
   "outputs": [
    {
     "data": {
      "text/plain": [
       "['왜', '8점대', '를', '못', '찍는', '건지', '모르겠다', '아쉽다', '...', '난', '괜찮았는데', '...']"
      ]
     },
     "execution_count": 32,
     "metadata": {},
     "output_type": "execute_result"
    }
   ],
   "source": [
    "twitter.morphs(select_str.loc[4838])"
   ]
  },
  {
   "cell_type": "markdown",
   "id": "0baac077",
   "metadata": {},
   "source": [
    "## 영어 형태소 분석기 사용하기"
   ]
  },
  {
   "cell_type": "markdown",
   "id": "a420d2ec",
   "metadata": {},
   "source": [
    "##### 영어 데이터 불러오기"
   ]
  },
  {
   "cell_type": "code",
   "execution_count": 34,
   "id": "0e9d6af5",
   "metadata": {},
   "outputs": [
    {
     "name": "stdout",
     "output_type": "stream",
     "text": [
      "*** Introductory Examples for the NLTK Book ***\n",
      "Loading text1, ..., text9 and sent1, ..., sent9\n",
      "Type the name of the text or sentence to view it.\n",
      "Type: 'texts()' or 'sents()' to list the materials.\n",
      "text1: Moby Dick by Herman Melville 1851\n",
      "text2: Sense and Sensibility by Jane Austen 1811\n",
      "text3: The Book of Genesis\n",
      "text4: Inaugural Address Corpus\n",
      "text5: Chat Corpus\n",
      "text6: Monty Python and the Holy Grail\n",
      "text7: Wall Street Journal\n",
      "text8: Personals Corpus\n",
      "text9: The Man Who Was Thursday by G . K . Chesterton 1908\n"
     ]
    }
   ],
   "source": [
    "import nltk\n",
    "nltk.download(\"book\", quiet=True)\n",
    "from nltk.book import *"
   ]
  },
  {
   "cell_type": "code",
   "execution_count": 35,
   "id": "6bccecba",
   "metadata": {},
   "outputs": [
    {
     "data": {
      "text/plain": [
       "['austen-emma.txt',\n",
       " 'austen-persuasion.txt',\n",
       " 'austen-sense.txt',\n",
       " 'bible-kjv.txt',\n",
       " 'blake-poems.txt',\n",
       " 'bryant-stories.txt',\n",
       " 'burgess-busterbrown.txt',\n",
       " 'carroll-alice.txt',\n",
       " 'chesterton-ball.txt',\n",
       " 'chesterton-brown.txt',\n",
       " 'chesterton-thursday.txt',\n",
       " 'edgeworth-parents.txt',\n",
       " 'melville-moby_dick.txt',\n",
       " 'milton-paradise.txt',\n",
       " 'shakespeare-caesar.txt',\n",
       " 'shakespeare-hamlet.txt',\n",
       " 'shakespeare-macbeth.txt',\n",
       " 'whitman-leaves.txt']"
      ]
     },
     "execution_count": 35,
     "metadata": {},
     "output_type": "execute_result"
    }
   ],
   "source": [
    "nltk.corpus.gutenberg.fileids()"
   ]
  },
  {
   "cell_type": "code",
   "execution_count": 38,
   "id": "c96f4d64",
   "metadata": {},
   "outputs": [
    {
     "name": "stdout",
     "output_type": "stream",
     "text": [
      "fe\n",
      "\n",
      "   Bar. Long liue the King\n",
      "\n",
      "   Fran. Barnardo?\n",
      "  Bar. He\n",
      "\n",
      "   Fran. You come most carefully vpon your houre\n",
      "\n",
      "   Bar. 'Tis now strook twelue, get thee to bed Francisco\n",
      "\n",
      "   Fran. For this releefe much thankes: 'Tis bitter cold,\n",
      "And I am sicke at heart\n",
      "\n",
      "   Barn. Haue you had quiet Guard?\n",
      "  Fran. Not\n"
     ]
    }
   ],
   "source": [
    "txt_raw = nltk.corpus.gutenberg.raw(\"shakespeare-hamlet.txt\")\n",
    "print(txt_raw[200:500])"
   ]
  },
  {
   "cell_type": "markdown",
   "id": "9e2930cc",
   "metadata": {},
   "source": [
    "##### 문장 분리하기"
   ]
  },
  {
   "cell_type": "code",
   "execution_count": 40,
   "id": "49232ab4",
   "metadata": {},
   "outputs": [
    {
     "name": "stdout",
     "output_type": "stream",
     "text": [
      "['Barnardo.', \"Who's there?\", 'Fran.', 'Nay answer me: Stand & vnfold\\nyour selfe\\n\\n   Bar.', 'Long liue the King\\n\\n   Fran.', 'Barnardo?', 'Bar.']\n"
     ]
    }
   ],
   "source": [
    "from nltk.tokenize import sent_tokenize\n",
    "print(sent_tokenize(txt_raw[:500])[3:10])"
   ]
  },
  {
   "cell_type": "markdown",
   "id": "3ff48c7f",
   "metadata": {},
   "source": [
    "##### 단어 분리하기"
   ]
  },
  {
   "cell_type": "code",
   "execution_count": 42,
   "id": "70856f04",
   "metadata": {},
   "outputs": [
    {
     "data": {
      "text/plain": [
       "['[',\n",
       " 'The',\n",
       " 'Tragedie',\n",
       " 'of',\n",
       " 'Hamlet',\n",
       " 'by',\n",
       " 'William',\n",
       " 'Shakespeare',\n",
       " '1599',\n",
       " ']']"
      ]
     },
     "execution_count": 42,
     "metadata": {},
     "output_type": "execute_result"
    }
   ],
   "source": [
    "from nltk.tokenize import word_tokenize\n",
    "word_tokenize(txt_raw[:500])[:10]"
   ]
  },
  {
   "cell_type": "code",
   "execution_count": 44,
   "id": "fc3bc0a5",
   "metadata": {},
   "outputs": [
    {
     "data": {
      "text/plain": [
       "['The',\n",
       " 'Tragedie',\n",
       " 'of',\n",
       " 'Hamlet',\n",
       " 'by',\n",
       " 'William',\n",
       " 'Shakespeare',\n",
       " '1599',\n",
       " 'Actus',\n",
       " 'Primus']"
      ]
     },
     "execution_count": 44,
     "metadata": {},
     "output_type": "execute_result"
    }
   ],
   "source": [
    "from nltk.tokenize import RegexpTokenizer\n",
    "retokenize = RegexpTokenizer(\"[\\w]+\")\n",
    "retokenize.tokenize(txt_raw[:500])[:10]"
   ]
  },
  {
   "cell_type": "markdown",
   "id": "b32cf372",
   "metadata": {},
   "source": [
    "## 형태소 분석  "
   ]
  },
  {
   "cell_type": "markdown",
   "id": "0841533f",
   "metadata": {},
   "source": [
    "#### 어간 추출(stemming)\n",
    "- 변화된 단어의 접미사나 어미를 제거하여 같은 의미를 가지는 형태소의 기본형을 찾는 방법"
   ]
  },
  {
   "cell_type": "code",
   "execution_count": 45,
   "id": "fe212e32",
   "metadata": {},
   "outputs": [
    {
     "name": "stdout",
     "output_type": "stream",
     "text": [
      "Porter Stemmer   : ['fli', 'fli', 'fli', 'flew', 'flown']\n",
      "Lancaster Stemmer: ['fly', 'fli', 'fly', 'flew', 'flown']\n"
     ]
    }
   ],
   "source": [
    "from nltk.stem import PorterStemmer, LancasterStemmer\n",
    "\n",
    "st1 = PorterStemmer()\n",
    "st2 =  LancasterStemmer()\n",
    "\n",
    "words = [\"fly\", \"flies\", \"flying\", \"flew\", \"flown\"]\n",
    "\n",
    "print(\"Porter Stemmer   :\", [st1.stem(w) for w in words])\n",
    "print(\"Lancaster Stemmer:\", [st2.stem(w) for w in words])"
   ]
  },
  {
   "cell_type": "markdown",
   "id": "a0c53464",
   "metadata": {},
   "source": [
    "#### 원형 복원(lemmatizing) \n",
    "- 같은 의미를 가지는 여러 단어를 사전형으로 통일하는 작업"
   ]
  },
  {
   "cell_type": "code",
   "execution_count": 46,
   "id": "c84f8d06",
   "metadata": {},
   "outputs": [
    {
     "data": {
      "text/plain": [
       "['fly', 'fly', 'fly', 'fly', 'fly']"
      ]
     },
     "execution_count": 46,
     "metadata": {},
     "output_type": "execute_result"
    }
   ],
   "source": [
    "from nltk.stem import WordNetLemmatizer\n",
    "\n",
    "lm = WordNetLemmatizer()\n",
    "\n",
    "[lm.lemmatize(w, pos=\"v\") for w in words]"
   ]
  },
  {
   "cell_type": "markdown",
   "id": "c82e98d7",
   "metadata": {},
   "source": [
    "#### 품사 부착(Part-Of-Speech)\n",
    "\n",
    "NNP: 단수 고유명사  \n",
    "VB: 동사  \n",
    "VBP: 동사 현재형  \n",
    "TO: to 전치사  \n",
    "NN: 명사(단수형 혹은 집합형)  \n",
    "DT: 관형사  "
   ]
  },
  {
   "cell_type": "code",
   "execution_count": 47,
   "id": "c94bce2a",
   "metadata": {},
   "outputs": [
    {
     "data": {
      "text/plain": [
       "[('Emma', 'NNP'),\n",
       " ('refused', 'VBD'),\n",
       " ('to', 'TO'),\n",
       " ('permit', 'VB'),\n",
       " ('us', 'PRP'),\n",
       " ('to', 'TO'),\n",
       " ('obtain', 'VB'),\n",
       " ('the', 'DT'),\n",
       " ('refuse', 'NN'),\n",
       " ('permit', 'NN')]"
      ]
     },
     "execution_count": 47,
     "metadata": {},
     "output_type": "execute_result"
    }
   ],
   "source": [
    "from nltk.tag import pos_tag\n",
    "sentence = \"Emma refused to permit us to obtain the refuse permit\"\n",
    "tagged_list = pos_tag(word_tokenize(sentence))\n",
    "tagged_list"
   ]
  },
  {
   "cell_type": "code",
   "execution_count": 48,
   "id": "a49df8e9",
   "metadata": {},
   "outputs": [
    {
     "data": {
      "text/plain": [
       "['refuse', 'permit']"
      ]
     },
     "execution_count": 48,
     "metadata": {},
     "output_type": "execute_result"
    }
   ],
   "source": [
    "nouns_list = [t[0] for t in tagged_list if t[1] == \"NN\"]\n",
    "nouns_list"
   ]
  },
  {
   "cell_type": "code",
   "execution_count": 49,
   "id": "d201bd48",
   "metadata": {},
   "outputs": [
    {
     "data": {
      "text/plain": [
       "['Emma',\n",
       " 'refused',\n",
       " 'to',\n",
       " 'permit',\n",
       " 'us',\n",
       " 'to',\n",
       " 'obtain',\n",
       " 'the',\n",
       " 'refuse',\n",
       " 'permit']"
      ]
     },
     "execution_count": 49,
     "metadata": {},
     "output_type": "execute_result"
    }
   ],
   "source": [
    "from nltk.tag import untag\n",
    "untag(tagged_list)"
   ]
  },
  {
   "cell_type": "markdown",
   "id": "28c213c8",
   "metadata": {},
   "source": [
    "## 한국어와 영어를 같이 사용하는 경우"
   ]
  },
  {
   "cell_type": "code",
   "execution_count": 58,
   "id": "cbc17f1a",
   "metadata": {},
   "outputs": [
    {
     "data": {
      "text/plain": [
       "('왜 8점대를 못찍는건지 모르겠다 아쉽다...난 괜찮았는데...',\n",
       " 'Emma refused to permit us to obtain the refuse permit')"
      ]
     },
     "execution_count": 58,
     "metadata": {},
     "output_type": "execute_result"
    }
   ],
   "source": [
    "kor = select_str.loc[4838]\n",
    "eng = sentence\n",
    "kor, eng"
   ]
  },
  {
   "cell_type": "code",
   "execution_count": 59,
   "id": "d043ef9b",
   "metadata": {},
   "outputs": [
    {
     "data": {
      "text/plain": [
       "'왜 8점대를 못찍는건지 모르겠다 아쉽다...난 괜찮았는데... Emma refused to permit us to obtain the refuse permit'"
      ]
     },
     "execution_count": 59,
     "metadata": {},
     "output_type": "execute_result"
    }
   ],
   "source": [
    "kor_eng = kor + \" \" + eng\n",
    "kor_eng"
   ]
  },
  {
   "cell_type": "code",
   "execution_count": 60,
   "id": "7b384f8f",
   "metadata": {},
   "outputs": [
    {
     "name": "stdout",
     "output_type": "stream",
     "text": [
      "한글 결과입니다. ['왜', '8점대', '를', '못', '찍는', '건지', '모르겠다', '아쉽다', '...', '난', '괜찮았는데', '...', 'Emma', 'refused', 'to', 'permit', 'us', 'to', 'obtain', 'the', 'refuse', 'permit']\n",
      "영어 결과입니다. ['왜', '8점대를', '못찍는건지', '모르겠다', '아쉽다', '...', '난', '괜찮았는데', '...', 'Emma', 'refused', 'to', 'permit', 'us', 'to', 'obtain', 'the', 'refuse', 'permit']\n"
     ]
    }
   ],
   "source": [
    "kor_rs = twitter.morphs(kor_eng)\n",
    "eng_rs = word_tokenize(kor_eng)\n",
    "print(f\"한글 결과입니다. {kor_rs}\")\n",
    "print(f\"영어 결과입니다. {eng_rs}\") # 기본적으로 영어는 ' ' 으로 나눠질 수 있다."
   ]
  },
  {
   "cell_type": "markdown",
   "id": "7b4fe7ae",
   "metadata": {},
   "source": []
  },
  {
   "cell_type": "code",
   "execution_count": null,
   "id": "7118599e",
   "metadata": {},
   "outputs": [],
   "source": []
  }
 ],
 "metadata": {
  "kernelspec": {
   "display_name": "Python 3 (ipykernel)",
   "language": "python",
   "name": "python3"
  },
  "language_info": {
   "codemirror_mode": {
    "name": "ipython",
    "version": 3
   },
   "file_extension": ".py",
   "mimetype": "text/x-python",
   "name": "python",
   "nbconvert_exporter": "python",
   "pygments_lexer": "ipython3",
   "version": "3.10.10"
  }
 },
 "nbformat": 4,
 "nbformat_minor": 5
}
