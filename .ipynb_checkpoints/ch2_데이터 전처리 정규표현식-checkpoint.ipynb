{
 "cells": [
  {
   "cell_type": "markdown",
   "id": "6eac0375",
   "metadata": {},
   "source": [
    "# 데이터 전처리"
   ]
  },
  {
   "cell_type": "markdown",
   "id": "751ec8f1",
   "metadata": {},
   "source": [
    "1. 정규표현식으로 데이터는 제거하거나 변환하기\n",
    "2. 파이썬 라이브러리의 데이터 전처리하기"
   ]
  },
  {
   "cell_type": "code",
   "execution_count": 4,
   "id": "1050b83b",
   "metadata": {
    "tags": []
   },
   "outputs": [],
   "source": [
    "import re\n",
    "import pandas as pd"
   ]
  },
  {
   "cell_type": "code",
   "execution_count": 5,
   "id": "27566d49",
   "metadata": {
    "tags": []
   },
   "outputs": [],
   "source": [
    "train_data = pd.read_csv('https://raw.githubusercontent.com/e9t/nsmc/master/ratings_train.txt', sep='\\t', encoding='utf8')\n",
    "test_data = pd.read_csv('https://raw.githubusercontent.com/e9t/nsmc/master/ratings_test.txt', sep='\\t', encoding='utf8')"
   ]
  },
  {
   "cell_type": "markdown",
   "id": "4bddb878-a7e8-4c72-bc0d-67dba966ff3e",
   "metadata": {},
   "source": [
    "## 정규표현식으로 데이터 전처리하기\n",
    "\n",
    "정규표현식 미리 보기 : https://regexr.com/"
   ]
  },
  {
   "cell_type": "markdown",
   "id": "0d2e2ff7-d251-4da5-b01f-d05dc87b7c35",
   "metadata": {},
   "source": [
    "* 예시 데이터 : 010-1111-3456 016-345-1853 02-345-1234 136-25   \n",
    "  \n",
    "* 문제 : 다음 아래 데이터에서 전화번호 추출하기  \n",
    "  * 정답1  \n",
    "    1단계 : ([0-9]+)-([0-9]+)-([0-9]+)  \n",
    "    2단계 : ([0-9]+-){2}([0-9]+)   \n",
    "  * 정답2  \n",
    "    \\d{3}-\\d{3,4}-\\d{4}"
   ]
  },
  {
   "cell_type": "code",
   "execution_count": 6,
   "id": "9867b088-a8d8-40bb-9de3-88b651f9b31a",
   "metadata": {
    "tags": []
   },
   "outputs": [],
   "source": [
    "phone_numbers = \"\"\"010-1111-3456 016-345-1853 02-345-1234 136-25\"\"\"\n",
    "str_samples = \"\"\"abcd apple banana\"\"\""
   ]
  },
  {
   "cell_type": "markdown",
   "id": "71a0f56c-f412-487f-8b49-3905a29a0382",
   "metadata": {},
   "source": [
    "* 예시 데이터 : abcd apple banana  \n",
    "  \n",
    "* 문제1 : a로 시작하는 단어 찾기\n",
    "  * 정답 : (^a)\\w+  \n",
    "  \n",
    "* 문제2 : a로 끝나는 단어 찾기\n",
    "  * 정답 : \\w+(a$)\n",
    "  \n",
    "* 문제3 : p나 n이 들어가 있는 단어 찾기\n",
    "  * 정답 : \\w+[pn]\\w+"
   ]
  },
  {
   "cell_type": "markdown",
   "id": "36c982b8-9958-4aac-b64f-611c1abae17f",
   "metadata": {},
   "source": [
    "# 파이썬 re 모듈 사용하기"
   ]
  },
  {
   "cell_type": "code",
   "execution_count": 7,
   "id": "cf4afa4f-0ce6-4507-a19c-67ff7a73b563",
   "metadata": {
    "tags": []
   },
   "outputs": [],
   "source": [
    "pn_p = re.compile('([0-9]+)-([0-9]+)-([0-9]+)')\n",
    "s_p_start_a = re.compile('(^a)\\w+')\n",
    "s_p_end_a = re.compile('\\w+(a$)')\n",
    "s_p_inside_pn = re.compile('\\w+[pn]\\w+')"
   ]
  },
  {
   "cell_type": "markdown",
   "id": "687f9687-808b-4186-ad6e-a34b1c9bd306",
   "metadata": {},
   "source": [
    "## match 메서드 사용하기\n",
    "* 문자열의 처음부터 정규식과 매치되는지 조사한다. \n",
    "* match 객체의 메서드\n",
    "  * group() : 매치된 문자열을 리턴한다.\n",
    "  * start() : 매치된 문자열의 시작 위치를 리턴한다.\n",
    "  * end() : 매치된 문자열의 끝 위치를 리턴한다.\n",
    "  * span() : 매치된 문자열의 (시작, 끝)에 해당하는 위치를 튜플로 리턴한다."
   ]
  },
  {
   "cell_type": "code",
   "execution_count": 8,
   "id": "fd6adbdd-949c-4b11-9139-2a0f7be8f5e4",
   "metadata": {
    "tags": []
   },
   "outputs": [
    {
     "data": {
      "text/plain": [
       "<re.Match object; span=(0, 13), match='010-1111-3456'>"
      ]
     },
     "execution_count": 8,
     "metadata": {},
     "output_type": "execute_result"
    }
   ],
   "source": [
    "pn_p.match(phone_numbers)"
   ]
  },
  {
   "cell_type": "code",
   "execution_count": 9,
   "id": "105494de-bf42-45a5-a7a6-a87a5882346d",
   "metadata": {
    "tags": []
   },
   "outputs": [
    {
     "name": "stdout",
     "output_type": "stream",
     "text": [
      "010-1111-3456\n",
      "0\n",
      "13\n",
      "(0, 13)\n"
     ]
    }
   ],
   "source": [
    "pn_p_rs = pn_p.match(phone_numbers)\n",
    "if pn_p_rs :\n",
    "    print(pn_p_rs.group())\n",
    "    print(pn_p_rs.start())\n",
    "    print(pn_p_rs.end())\n",
    "    print(pn_p_rs.span())\n",
    "    \n",
    "else :\n",
    "    print(\"일치하는 패턴이 없습니다.\")"
   ]
  },
  {
   "cell_type": "markdown",
   "id": "5f9cc7de-4b9b-4468-80bd-9618b9c126c2",
   "metadata": {},
   "source": [
    "### match 관련 추가"
   ]
  },
  {
   "cell_type": "code",
   "execution_count": 10,
   "id": "72c1d225-f2e0-4e31-a376-c637155b7ae3",
   "metadata": {
    "tags": []
   },
   "outputs": [
    {
     "name": "stdout",
     "output_type": "stream",
     "text": [
      "010-1111-3456\n",
      "010\n",
      "1111\n",
      "3456\n"
     ]
    }
   ],
   "source": [
    "# 패턴의 순서만 데이터를 추출할 수 있다.\n",
    "print(pn_p_rs.group(0))\n",
    "print(pn_p_rs.group(1))\n",
    "print(pn_p_rs.group(2))\n",
    "print(pn_p_rs.group(3))\n"
   ]
  },
  {
   "cell_type": "code",
   "execution_count": 11,
   "id": "0ba2cc47-21f4-40cd-a8a9-17328fa3b0bc",
   "metadata": {
    "tags": []
   },
   "outputs": [
    {
     "data": {
      "text/plain": [
       "{'first': '010', 'middle': '1111', 'end': '3456'}"
      ]
     },
     "execution_count": 11,
     "metadata": {},
     "output_type": "execute_result"
    }
   ],
   "source": [
    "re.match(\"(?P<first>[0-9]+)-(?P<middle>[0-9]+)-(?P<end>[0-9]+)\", phone_numbers).groupdict()"
   ]
  },
  {
   "cell_type": "code",
   "execution_count": 12,
   "id": "bb960bbe-ea47-4e87-8f91-be38a281e2bc",
   "metadata": {
    "tags": []
   },
   "outputs": [],
   "source": [
    "def patRS(p):\n",
    "    if p :\n",
    "        print(p.group())\n",
    "    else:\n",
    "        print(\"일치하는 패턴이 없습니다.\")"
   ]
  },
  {
   "cell_type": "code",
   "execution_count": 13,
   "id": "035c4a5c-0164-4e58-b63d-2da02432e529",
   "metadata": {
    "tags": []
   },
   "outputs": [
    {
     "data": {
      "text/plain": [
       "<re.Match object; span=(0, 4), match='abcd'>"
      ]
     },
     "execution_count": 13,
     "metadata": {},
     "output_type": "execute_result"
    }
   ],
   "source": [
    "spsa = s_p_start_a.match(str_samples)\n",
    "spsa"
   ]
  },
  {
   "cell_type": "code",
   "execution_count": 14,
   "id": "31b2c940-9f8b-45b7-829b-66c869335105",
   "metadata": {
    "tags": []
   },
   "outputs": [
    {
     "name": "stdout",
     "output_type": "stream",
     "text": [
      "abcd\n"
     ]
    }
   ],
   "source": [
    "patRS(spsa)"
   ]
  },
  {
   "cell_type": "code",
   "execution_count": 15,
   "id": "77149755-5e29-453d-8e09-1fe480dea07c",
   "metadata": {
    "tags": []
   },
   "outputs": [],
   "source": [
    "spea = s_p_end_a.match(str_samples)\n",
    "spea"
   ]
  },
  {
   "cell_type": "code",
   "execution_count": 16,
   "id": "3fc2de0f-db6c-4bcb-88f3-8f25a458aa49",
   "metadata": {
    "tags": []
   },
   "outputs": [
    {
     "name": "stdout",
     "output_type": "stream",
     "text": [
      "일치하는 패턴이 없습니다.\n"
     ]
    }
   ],
   "source": [
    "patRS(spea)"
   ]
  },
  {
   "cell_type": "code",
   "execution_count": 17,
   "id": "2d7f3650-8a50-4db5-98a1-830c4d46679d",
   "metadata": {
    "tags": []
   },
   "outputs": [],
   "source": [
    "spipn = s_p_inside_pn.match(str_samples)\n",
    "spipn"
   ]
  },
  {
   "cell_type": "code",
   "execution_count": 18,
   "id": "da0349c5-e67b-4472-9310-1ab66fa53ffb",
   "metadata": {
    "tags": []
   },
   "outputs": [
    {
     "name": "stdout",
     "output_type": "stream",
     "text": [
      "일치하는 패턴이 없습니다.\n"
     ]
    }
   ],
   "source": [
    "patRS(spipn) # 주의 사항 '공백문자' 때문에 검색이 안 됨"
   ]
  },
  {
   "cell_type": "markdown",
   "id": "8d055541-2f5e-4b1b-a5c6-badf09b0a773",
   "metadata": {},
   "source": [
    "## search 메서드 사용하기\n",
    "* 문자열 전체를 검색하여 정규식과 매치되는지 조사한다."
   ]
  },
  {
   "cell_type": "code",
   "execution_count": 19,
   "id": "dd2aec2c-613d-4b95-9501-e46ccdf0062f",
   "metadata": {
    "tags": []
   },
   "outputs": [
    {
     "data": {
      "text/plain": [
       "<re.Match object; span=(0, 13), match='010-1111-3456'>"
      ]
     },
     "execution_count": 19,
     "metadata": {},
     "output_type": "execute_result"
    }
   ],
   "source": [
    "pn_p_rs = pn_p.search(phone_numbers)\n",
    "pn_p_rs"
   ]
  },
  {
   "cell_type": "markdown",
   "id": "94874b7f-b82d-4c60-b462-08c39c48abbe",
   "metadata": {},
   "source": [
    "## findall 메서드 사용하기"
   ]
  },
  {
   "cell_type": "code",
   "execution_count": 20,
   "id": "228d344a-0e1b-46e1-bae0-45d24f99813f",
   "metadata": {
    "tags": []
   },
   "outputs": [
    {
     "data": {
      "text/plain": [
       "[('010', '1111', '3456'), ('016', '345', '1853'), ('02', '345', '1234')]"
      ]
     },
     "execution_count": 20,
     "metadata": {},
     "output_type": "execute_result"
    }
   ],
   "source": [
    "pn_p_rs = pn_p.findall(phone_numbers)\n",
    "pn_p_rs"
   ]
  },
  {
   "cell_type": "markdown",
   "id": "02205e29-e2f2-4b6c-b1c7-a3d04fed3179",
   "metadata": {},
   "source": [
    "## finditer메서드 사용하기"
   ]
  },
  {
   "cell_type": "code",
   "execution_count": 21,
   "id": "f6e7cb52-3ce1-4d23-b0e4-5130b9cd6bef",
   "metadata": {
    "tags": []
   },
   "outputs": [
    {
     "data": {
      "text/plain": [
       "<callable_iterator at 0x7f2d093737c0>"
      ]
     },
     "execution_count": 21,
     "metadata": {},
     "output_type": "execute_result"
    }
   ],
   "source": [
    "pn_p_rs = pn_p.finditer(phone_numbers)\n",
    "pn_p_rs"
   ]
  },
  {
   "cell_type": "code",
   "execution_count": 22,
   "id": "095953f5-8858-403a-b12c-c1d1e3ea208f",
   "metadata": {
    "tags": []
   },
   "outputs": [
    {
     "name": "stdout",
     "output_type": "stream",
     "text": [
      "<re.Match object; span=(0, 13), match='010-1111-3456'>\n",
      "<re.Match object; span=(14, 26), match='016-345-1853'>\n",
      "<re.Match object; span=(27, 38), match='02-345-1234'>\n"
     ]
    }
   ],
   "source": [
    "for r in pn_p_rs:\n",
    "    print(r)"
   ]
  },
  {
   "cell_type": "markdown",
   "id": "f4ccc4ff-2a6e-463d-b287-d22b020ceb9e",
   "metadata": {},
   "source": [
    "## sub로 데이터 바꾸기"
   ]
  },
  {
   "cell_type": "code",
   "execution_count": 23,
   "id": "d793a921-540b-4363-8b6d-2cf48d5924fe",
   "metadata": {
    "tags": []
   },
   "outputs": [
    {
     "name": "stdout",
     "output_type": "stream",
     "text": [
      "abcd apple banana\n"
     ]
    },
    {
     "data": {
      "text/plain": [
       "'zzz apple banana'"
      ]
     },
     "execution_count": 23,
     "metadata": {},
     "output_type": "execute_result"
    }
   ],
   "source": [
    "print(str_samples)\n",
    "s_p_start_a.sub('zzz', str_samples)"
   ]
  },
  {
   "cell_type": "markdown",
   "id": "bbbdd608-2252-4d48-967e-125db0f6270a",
   "metadata": {},
   "source": [
    "# 파이썬 pandas 사용하기"
   ]
  },
  {
   "cell_type": "code",
   "execution_count": 24,
   "id": "77263818-637e-43bb-a8d1-7f4ba23bcba7",
   "metadata": {
    "tags": []
   },
   "outputs": [],
   "source": [
    "phone_numbers_df = pd.DataFrame(data=phone_numbers.split())\n",
    "str_samples_df = pd.DataFrame(data=str_samples.split())"
   ]
  },
  {
   "cell_type": "code",
   "execution_count": 25,
   "id": "733437e0-2b7f-4990-8def-c742b1565513",
   "metadata": {
    "tags": []
   },
   "outputs": [
    {
     "data": {
      "text/html": [
       "<div>\n",
       "<style scoped>\n",
       "    .dataframe tbody tr th:only-of-type {\n",
       "        vertical-align: middle;\n",
       "    }\n",
       "\n",
       "    .dataframe tbody tr th {\n",
       "        vertical-align: top;\n",
       "    }\n",
       "\n",
       "    .dataframe thead th {\n",
       "        text-align: right;\n",
       "    }\n",
       "</style>\n",
       "<table border=\"1\" class=\"dataframe\">\n",
       "  <thead>\n",
       "    <tr style=\"text-align: right;\">\n",
       "      <th></th>\n",
       "      <th>0</th>\n",
       "    </tr>\n",
       "  </thead>\n",
       "  <tbody>\n",
       "    <tr>\n",
       "      <th>0</th>\n",
       "      <td>010-1111-3456</td>\n",
       "    </tr>\n",
       "    <tr>\n",
       "      <th>1</th>\n",
       "      <td>016-345-1853</td>\n",
       "    </tr>\n",
       "    <tr>\n",
       "      <th>2</th>\n",
       "      <td>02-345-1234</td>\n",
       "    </tr>\n",
       "    <tr>\n",
       "      <th>3</th>\n",
       "      <td>136-25</td>\n",
       "    </tr>\n",
       "  </tbody>\n",
       "</table>\n",
       "</div>"
      ],
      "text/plain": [
       "               0\n",
       "0  010-1111-3456\n",
       "1   016-345-1853\n",
       "2    02-345-1234\n",
       "3         136-25"
      ]
     },
     "execution_count": 25,
     "metadata": {},
     "output_type": "execute_result"
    }
   ],
   "source": [
    "phone_numbers_df"
   ]
  },
  {
   "cell_type": "code",
   "execution_count": 26,
   "id": "5f05649a-c815-479c-b0b7-1b13f6cc7789",
   "metadata": {
    "tags": []
   },
   "outputs": [
    {
     "data": {
      "text/html": [
       "<div>\n",
       "<style scoped>\n",
       "    .dataframe tbody tr th:only-of-type {\n",
       "        vertical-align: middle;\n",
       "    }\n",
       "\n",
       "    .dataframe tbody tr th {\n",
       "        vertical-align: top;\n",
       "    }\n",
       "\n",
       "    .dataframe thead th {\n",
       "        text-align: right;\n",
       "    }\n",
       "</style>\n",
       "<table border=\"1\" class=\"dataframe\">\n",
       "  <thead>\n",
       "    <tr style=\"text-align: right;\">\n",
       "      <th></th>\n",
       "      <th>0</th>\n",
       "    </tr>\n",
       "  </thead>\n",
       "  <tbody>\n",
       "    <tr>\n",
       "      <th>0</th>\n",
       "      <td>abcd</td>\n",
       "    </tr>\n",
       "    <tr>\n",
       "      <th>1</th>\n",
       "      <td>apple</td>\n",
       "    </tr>\n",
       "    <tr>\n",
       "      <th>2</th>\n",
       "      <td>banana</td>\n",
       "    </tr>\n",
       "  </tbody>\n",
       "</table>\n",
       "</div>"
      ],
      "text/plain": [
       "        0\n",
       "0    abcd\n",
       "1   apple\n",
       "2  banana"
      ]
     },
     "execution_count": 26,
     "metadata": {},
     "output_type": "execute_result"
    }
   ],
   "source": [
    "str_samples_df"
   ]
  },
  {
   "cell_type": "code",
   "execution_count": 27,
   "id": "01d96b43-3051-4b79-a977-e749a6370a04",
   "metadata": {
    "tags": []
   },
   "outputs": [
    {
     "data": {
      "text/plain": [
       "0    010-1111-3456\n",
       "1     010-345-1853\n",
       "2      02-345-1234\n",
       "3           136-25\n",
       "Name: 0, dtype: object"
      ]
     },
     "execution_count": 27,
     "metadata": {},
     "output_type": "execute_result"
    }
   ],
   "source": [
    "phone_numbers_df[0].str.replace(\"016\", \"010\")"
   ]
  },
  {
   "cell_type": "code",
   "execution_count": 28,
   "id": "5f7f2779-12dc-46c3-8dd0-74094c130967",
   "metadata": {
    "tags": []
   },
   "outputs": [
    {
     "data": {
      "text/plain": [
       "0    [010, 1111, 3456]\n",
       "1     [016, 345, 1853]\n",
       "2      [02, 345, 1234]\n",
       "3            [136, 25]\n",
       "Name: 0, dtype: object"
      ]
     },
     "execution_count": 28,
     "metadata": {},
     "output_type": "execute_result"
    }
   ],
   "source": [
    "phone_numbers_df[0].str.split(\"-\")"
   ]
  },
  {
   "cell_type": "code",
   "execution_count": 29,
   "id": "cad8cddd-ebc2-4ea0-9823-d7af6647142f",
   "metadata": {
    "tags": []
   },
   "outputs": [
    {
     "data": {
      "text/html": [
       "<div>\n",
       "<style scoped>\n",
       "    .dataframe tbody tr th:only-of-type {\n",
       "        vertical-align: middle;\n",
       "    }\n",
       "\n",
       "    .dataframe tbody tr th {\n",
       "        vertical-align: top;\n",
       "    }\n",
       "\n",
       "    .dataframe thead th {\n",
       "        text-align: right;\n",
       "    }\n",
       "</style>\n",
       "<table border=\"1\" class=\"dataframe\">\n",
       "  <thead>\n",
       "    <tr style=\"text-align: right;\">\n",
       "      <th></th>\n",
       "      <th>0</th>\n",
       "      <th>1</th>\n",
       "      <th>2</th>\n",
       "    </tr>\n",
       "  </thead>\n",
       "  <tbody>\n",
       "    <tr>\n",
       "      <th>0</th>\n",
       "      <td>010</td>\n",
       "      <td>1111</td>\n",
       "      <td>3456</td>\n",
       "    </tr>\n",
       "    <tr>\n",
       "      <th>1</th>\n",
       "      <td>016</td>\n",
       "      <td>345</td>\n",
       "      <td>1853</td>\n",
       "    </tr>\n",
       "    <tr>\n",
       "      <th>2</th>\n",
       "      <td>02</td>\n",
       "      <td>345</td>\n",
       "      <td>1234</td>\n",
       "    </tr>\n",
       "    <tr>\n",
       "      <th>3</th>\n",
       "      <td>136</td>\n",
       "      <td>25</td>\n",
       "      <td>None</td>\n",
       "    </tr>\n",
       "  </tbody>\n",
       "</table>\n",
       "</div>"
      ],
      "text/plain": [
       "     0     1     2\n",
       "0  010  1111  3456\n",
       "1  016   345  1853\n",
       "2   02   345  1234\n",
       "3  136    25  None"
      ]
     },
     "execution_count": 29,
     "metadata": {},
     "output_type": "execute_result"
    }
   ],
   "source": [
    "phone_numbers_df[0].str.split(\"-\", expand=True)"
   ]
  },
  {
   "cell_type": "code",
   "execution_count": 30,
   "id": "267ae281-5e10-4401-b78e-99fa9c6edb19",
   "metadata": {
    "tags": []
   },
   "outputs": [
    {
     "name": "stderr",
     "output_type": "stream",
     "text": [
      "/tmp/ipykernel_26090/2223773354.py:1: UserWarning: This pattern is interpreted as a regular expression, and has match groups. To actually get the groups, use str.extract.\n",
      "  phone_numbers_df[0].str.contains('([0-9]+)-([0-9]+)-([0-9]+)', regex=True)\n"
     ]
    },
    {
     "data": {
      "text/plain": [
       "0     True\n",
       "1     True\n",
       "2     True\n",
       "3    False\n",
       "Name: 0, dtype: bool"
      ]
     },
     "execution_count": 30,
     "metadata": {},
     "output_type": "execute_result"
    }
   ],
   "source": [
    "phone_numbers_df[0].str.contains('([0-9]+)-([0-9]+)-([0-9]+)', regex=True)"
   ]
  },
  {
   "cell_type": "code",
   "execution_count": 31,
   "id": "d78c3e44-c741-4497-b47d-1bb578d7c80a",
   "metadata": {
    "tags": []
   },
   "outputs": [
    {
     "name": "stderr",
     "output_type": "stream",
     "text": [
      "/tmp/ipykernel_26090/2223773354.py:1: UserWarning: This pattern is interpreted as a regular expression, and has match groups. To actually get the groups, use str.extract.\n",
      "  phone_numbers_df[0].str.contains('([0-9]+)-([0-9]+)-([0-9]+)', regex=True)\n"
     ]
    },
    {
     "data": {
      "text/plain": [
       "0     True\n",
       "1     True\n",
       "2     True\n",
       "3    False\n",
       "Name: 0, dtype: bool"
      ]
     },
     "execution_count": 31,
     "metadata": {},
     "output_type": "execute_result"
    }
   ],
   "source": [
    "phone_numbers_df[0].str.contains('([0-9]+)-([0-9]+)-([0-9]+)', regex=True)"
   ]
  },
  {
   "cell_type": "code",
   "execution_count": 32,
   "id": "e41a5331-83cf-4abc-8f22-ee6b4ae12f42",
   "metadata": {
    "tags": []
   },
   "outputs": [
    {
     "data": {
      "text/plain": [
       "0    [(010, 1111, 3456)]\n",
       "1     [(016, 345, 1853)]\n",
       "2      [(02, 345, 1234)]\n",
       "3                     []\n",
       "Name: 0, dtype: object"
      ]
     },
     "execution_count": 32,
     "metadata": {},
     "output_type": "execute_result"
    }
   ],
   "source": [
    "phone_numbers_df[0].str.findall('([0-9]+)-([0-9]+)-([0-9]+)')"
   ]
  },
  {
   "cell_type": "code",
   "execution_count": 33,
   "id": "e2d5a363-4d2c-4d8b-b399-85433e0caf5b",
   "metadata": {
    "tags": []
   },
   "outputs": [
    {
     "data": {
      "text/plain": [
       "0     True\n",
       "1     True\n",
       "2     True\n",
       "3    False\n",
       "Name: 0, dtype: bool"
      ]
     },
     "execution_count": 33,
     "metadata": {},
     "output_type": "execute_result"
    }
   ],
   "source": [
    "phone_numbers_df[0].str.fullmatch('([0-9]+)-([0-9]+)-([0-9]+)')"
   ]
  },
  {
   "cell_type": "markdown",
   "id": "4c9e3588-74c7-4707-9313-78772e0c2f0d",
   "metadata": {},
   "source": [
    "### train_data로 연습하기"
   ]
  },
  {
   "cell_type": "code",
   "execution_count": null,
   "id": "04e97772-085f-43f2-8ff9-d11215c34123",
   "metadata": {},
   "outputs": [],
   "source": []
  }
 ],
 "metadata": {
  "kernelspec": {
   "display_name": "Python 3 (ipykernel)",
   "language": "python",
   "name": "python3"
  },
  "language_info": {
   "codemirror_mode": {
    "name": "ipython",
    "version": 3
   },
   "file_extension": ".py",
   "mimetype": "text/x-python",
   "name": "python",
   "nbconvert_exporter": "python",
   "pygments_lexer": "ipython3",
   "version": "3.10.10"
  }
 },
 "nbformat": 4,
 "nbformat_minor": 5
}
